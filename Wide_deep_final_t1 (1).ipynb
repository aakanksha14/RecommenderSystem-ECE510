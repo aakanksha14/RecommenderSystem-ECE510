{
  "nbformat": 4,
  "nbformat_minor": 0,
  "metadata": {
    "colab": {
      "name": "Wide-deep-final_t1.ipynb",
      "version": "0.3.2",
      "provenance": [],
      "collapsed_sections": []
    },
    "kernelspec": {
      "name": "python3",
      "display_name": "Python 3"
    }
  },
  "cells": [
    {
      "cell_type": "code",
      "metadata": {
        "id": "orw-bvzJ-oei",
        "colab_type": "code",
        "outputId": "ecf98ebe-a0b6-4cd3-e374-9ec10829ed70",
        "colab": {
          "base_uri": "https://localhost:8080/",
          "height": 33
        }
      },
      "source": [
        "from google.colab import drive\n",
        "drive.mount('/content/drive/')"
      ],
      "execution_count": 1,
      "outputs": [
        {
          "output_type": "stream",
          "text": [
            "Drive already mounted at /content/drive/; to attempt to forcibly remount, call drive.mount(\"/content/drive/\", force_remount=True).\n"
          ],
          "name": "stdout"
        }
      ]
    },
    {
      "cell_type": "code",
      "metadata": {
        "id": "xjzpHGYv-hug",
        "colab_type": "code",
        "colab": {}
      },
      "source": [
        "import numpy as np\n",
        "import pandas as pd\n",
        "import pickle\n",
        "from pathlib import Path\n",
        "from torchvision import transforms\n",
        "from sklearn.metrics import mean_squared_error\n",
        "import matplotlib.pyplot as plt\n",
        "\n",
        "import torch\n",
        "import torch.nn as nn\n",
        "from torch import Tensor\n",
        "\n",
        "from torch import Tensor\n",
        "from torch.optim.optimizer import Optimizer\n",
        "from torch.utils.data.dataloader import DataLoader\n",
        "from torch.optim.lr_scheduler import _LRScheduler\n",
        "from pathlib import PosixPath\n",
        "from typing import List, Any, Union, Dict, Optional, Tuple, Generator, Collection\n",
        "from torch.utils.data import Dataset\n",
        "from tqdm import tqdm,trange\n",
        "\n",
        "import torch.nn.functional as F\n",
        "from torch.optim.lr_scheduler import StepLR, MultiStepLR\n",
        "\n",
        "LRScheduler = _LRScheduler\n",
        "ModelParams = Generator[Tensor,Tensor,Tensor]\n",
        "\n",
        "plot_epoch_t = []\n",
        "plot_train_loss =[]\n",
        "plot_epoch_v = []\n",
        "plot_val_loss = []\n",
        "        \n",
        "      \n",
        "# This is related to wide neural network\n",
        "class wide(nn.Module):\n",
        "    # num_input = number of input\n",
        "    # num_output = number of output\n",
        "    def __init__(self,num_input,num_output):\n",
        "        super(wide, self).__init__()\n",
        "        self.widenn = nn.Linear(num_input,num_output)\n",
        "        \n",
        "    def forward(self,x):\n",
        "        out = self.widenn(x)\n",
        "        return out\n",
        "        \n",
        "        "
      ],
      "execution_count": 0,
      "outputs": []
    },
    {
      "cell_type": "code",
      "metadata": {
        "id": "tc40OVhv-huj",
        "colab_type": "code",
        "colab": {}
      },
      "source": [
        "def deep_layer(layer_in,layer_out,dropout):\n",
        "    ly = nn.Sequential(nn.Linear(layer_in, layer_out),nn.LeakyReLU(inplace=True), nn.Dropout(dropout))\n",
        "    return ly\n",
        "\n",
        "# Deep neural network\n",
        "# Code for deep neural network taken from Wide-and-Deep-PyTorch and edited for our dataset\n",
        "class deep(nn.Module):\n",
        "    \n",
        "    # For regression output dimention is 1\n",
        "    def __init__(self, embeddings_input:List[Tuple[str,int,int]],\n",
        "        embeddings_encoding_dict:Dict[str,Any], continuous_cols:List[str],\n",
        "        deep_column_idx:Dict[str,int], hidden_layers:List[int], dropout:List[float],\n",
        "        output_dim=1):\n",
        "        \n",
        "        super(deep, self).__init__()\n",
        "\n",
        "        self.embeddings_input = embeddings_input\n",
        "        self.embeddings_encoding_dict = embeddings_encoding_dict\n",
        "        self.continuous_cols = continuous_cols\n",
        "        self.deep_column_idx = deep_column_idx\n",
        "\n",
        "        for col,val,dim in embeddings_input:\n",
        "            setattr(self, 'emb_layer_'+col, nn.Embedding(val, dim))\n",
        "        input_emb_dim = np.sum([emb[2] for emb in embeddings_input])+len(continuous_cols)\n",
        "        hidden_layers = [input_emb_dim] + hidden_layers\n",
        "        dropout = [0.0] + dropout\n",
        "        self.dense = nn.Sequential()\n",
        "        for i in range(1, len(hidden_layers)):\n",
        "            self.dense.add_module(\n",
        "                'deep_layer{}'.format(i-1),\n",
        "                deep_layer( hidden_layers[i-1], hidden_layers[i], dropout[i-1])\n",
        "                )\n",
        "        self.dense.add_module('last_linear', nn.Linear(hidden_layers[-1], output_dim))\n",
        "\n",
        "    def forward(self, X:Tensor)->Tensor:\n",
        "        emb = [getattr(self, 'emb_layer_'+col)(X[:,self.deep_column_idx[col]].long())\n",
        "               for col,_,_ in self.embeddings_input]\n",
        "        if self.continuous_cols:\n",
        "            cont_idx = [self.deep_column_idx[col] for col in self.continuous_cols]\n",
        "            cont = [X[:, cont_idx].float()]\n",
        "            inp = torch.cat(emb+cont, 1)\n",
        "        else:\n",
        "            inp = torch.cat(emb, 1)\n",
        "        out = self.dense(inp)\n",
        "        return out"
      ],
      "execution_count": 0,
      "outputs": []
    },
    {
      "cell_type": "code",
      "metadata": {
        "id": "Npp_ToYy-hum",
        "colab_type": "code",
        "colab": {}
      },
      "source": [
        "# Combining wide and deep neural networks\n",
        "\n",
        "class widedeep(nn.Module):\n",
        "    def __init__(self,**params):\n",
        "        super(widedeep,self).__init__()\n",
        "        \n",
        "        self.datasets = {} # dictionary 2 -> wide dataset and deep dataset\n",
        "        self.out_dim = 1 # for regression (predicts the user rate)\n",
        "        self.n_datasets = 1\n",
        "        \n",
        "        # Get parameters for wide dataset\n",
        "        for key,val in params['wide'].items():\n",
        "            setattr(self, key, val) # we are getting wide_dim\n",
        "            \n",
        "        # instantiation of wide objects\n",
        "        self.widenn = wide(\n",
        "            self.wide_dim,\n",
        "            self.out_dim\n",
        "            )\n",
        "        \n",
        "        # Get parameters for deep dataset\n",
        "        for key,val in params['deep'].items():\n",
        "            setattr(self, key, val)\n",
        "        self.datasets['deep'] = self.n_datasets\n",
        "        self.n_datasets+=1\n",
        "        self.deepnn = deep(\n",
        "            self.embeddings_input,\n",
        "            self.embeddings_encoding_dict,\n",
        "            self.continuous_cols,\n",
        "            self.deep_column_idx,\n",
        "            self.hidden_layers,\n",
        "            self.dropout,\n",
        "            self.out_dim\n",
        "        )\n",
        "        \n",
        "    def settings(self):\n",
        "#         method = 'regression'\n",
        "        method = 'logistic'\n",
        "        self.method = method\n",
        "        self.activation, self.criterion = None, F.mse_loss\n",
        "        \n",
        "        self.optimizer = torch.optim.Adam(self.parameters(), lr=0.01)\n",
        "        self.lr_scheduler = None\n",
        "        \n",
        "    def forward(self, X:Tuple[Tensor,...])->Tensor:\n",
        "        \n",
        "        # wide network\n",
        "        wide_input = X[0]\n",
        "        wide_deep = self.widenn(wide_input)\n",
        "        \n",
        "        # Deep network\n",
        "        deep_dense_idx = self.datasets['deep']\n",
        "        deep_dense_out = self.deepnn(X[0])\n",
        "        wide_deep.add_(deep_dense_out)\n",
        "        \n",
        "        # If no activation sigmoid etc. otherwise use activation funct.\n",
        "        return wide_deep\n",
        "    \n",
        "    def trainModel(self,n_epochs,train_loader,eval_loader=None):\n",
        "        train_steps =  (len(train_loader.dataset) // train_loader.batch_size) + 1\n",
        "        global plot_epoch_t,plot_epoch_v,plot_train_loss,plot_val_loss\n",
        "        \n",
        "        plot_epoch_t = []\n",
        "        plot_epoch_v = []\n",
        "        plot_train_loss =[]\n",
        "        plot_val_loss = []\n",
        "        \n",
        "        if eval_loader:\n",
        "            eval_steps =  (len(eval_loader.dataset) // eval_loader.batch_size) + 1\n",
        "            \n",
        "        for epoch in range(n_epochs):\n",
        "            if self.lr_scheduler: self.lr_scheduler.step()\n",
        "            net = self.train()\n",
        "            total, correct, running_loss = 0,0,0\n",
        "            with trange(train_steps) as t:\n",
        "                for i, (data,target) in zip(t, train_loader):\n",
        "                    t.set_description('epoch %i' % (epoch+1))\n",
        "                    X = tuple(x.cuda() for x in data) if use_cuda else data\n",
        "                    y = target.float() if self.method != 'multiclass' else target\n",
        "                    y = y.cuda() if use_cuda else y\n",
        "\n",
        "                    self.optimizer.zero_grad()\n",
        "                    y_pred =  net(X)\n",
        "                    if(self.criterion == F.cross_entropy):\n",
        "                        loss = self.criterion(y_pred, y)\n",
        "                    else:\n",
        "                        loss = self.criterion(y_pred, y.view(-1, 1))\n",
        "                    loss.backward()\n",
        "                    self.optimizer.step()\n",
        "\n",
        "                    running_loss += loss.item()\n",
        "                    avg_loss = running_loss/(i+1)\n",
        "\n",
        "                    if self.method != \"regression\":\n",
        "                        total+= y.size(0)\n",
        "                        if self.method == 'logistic':\n",
        "                            y_pred_cat = (y_pred > 0.5).squeeze(1).float()\n",
        "                        if self.method == \"multiclass\":\n",
        "                            _, y_pred_cat = torch.max(y_pred, 1)\n",
        "                        correct+= float((y_pred_cat == y).sum().item())\n",
        "                        t.set_postfix(acc=correct/total, loss=avg_loss)\n",
        "                    else:\n",
        "                        t.set_postfix(loss=np.sqrt(avg_loss))\n",
        "                    plot_epoch_t.append(epoch)\n",
        "                    plot_train_loss.append(avg_loss)\n",
        "\n",
        "            if eval_loader:\n",
        "                total, correct, running_loss = 0,0,0\n",
        "                net = self.eval()\n",
        "                with torch.no_grad():\n",
        "                    with trange(eval_steps) as v:\n",
        "                        for i, (data,target) in zip(v, eval_loader):\n",
        "                            v.set_description('valid')\n",
        "                            X = tuple(x.cuda() for x in data) if use_cuda else data\n",
        "                            y = target.float() if self.method != 'multiclass' else target\n",
        "                            y = y.cuda() if use_cuda else y\n",
        "                            y_pred =  net(X)\n",
        "                            if(self.criterion == F.cross_entropy):\n",
        "                                loss = self.criterion(y_pred, y)\n",
        "                            else:\n",
        "                                loss = self.criterion(y_pred, y.view(-1, 1))\n",
        "                            running_loss += loss.item()\n",
        "                            avg_loss = running_loss/(i+1)\n",
        "                            if self.method != \"regression\":\n",
        "                                total+= y.size(0)\n",
        "                                if self.method == 'logistic':\n",
        "                                    y_pred_cat = (y_pred > 0.5).squeeze(1).float()\n",
        "                                if self.method == \"multiclass\":\n",
        "                                    _, y_pred_cat = torch.max(y_pred, 1)\n",
        "                                correct+= float((y_pred_cat == y).sum().item())\n",
        "                                v.set_postfix(acc=correct/total, loss=avg_loss)\n",
        "                            else:\n",
        "                                v.set_postfix(loss=np.sqrt(avg_loss))\n",
        "                            plot_epoch_v.append(epoch)\n",
        "                            plot_val_loss.append(avg_loss)\n",
        "\n",
        "                            "
      ],
      "execution_count": 0,
      "outputs": []
    },
    {
      "cell_type": "code",
      "metadata": {
        "id": "3c1m7ZB10W8M",
        "colab_type": "code",
        "colab": {
          "base_uri": "https://localhost:8080/",
          "height": 33
        },
        "outputId": "e03da5f5-30f3-4020-e9e9-18d98f96b420"
      },
      "source": [
        "cd drive/"
      ],
      "execution_count": 5,
      "outputs": [
        {
          "output_type": "stream",
          "text": [
            "/content/drive\n"
          ],
          "name": "stdout"
        }
      ]
    },
    {
      "cell_type": "code",
      "metadata": {
        "id": "48WC7ffn_YM_",
        "colab_type": "code",
        "outputId": "846da81e-9640-4560-8f5f-e9cc831a0066",
        "colab": {
          "base_uri": "https://localhost:8080/",
          "height": 33
        }
      },
      "source": [
        "cd My\\ Drive"
      ],
      "execution_count": 10,
      "outputs": [
        {
          "output_type": "stream",
          "text": [
            "/content/drive/My Drive\n"
          ],
          "name": "stdout"
        }
      ]
    },
    {
      "cell_type": "code",
      "metadata": {
        "id": "fw3TfHXi99t0",
        "colab_type": "code",
        "colab": {
          "base_uri": "https://localhost:8080/",
          "height": 33
        },
        "outputId": "5f2d102a-64ab-415d-ab2e-fc528f5808c8"
      },
      "source": [
        "cd Wide-and-Deep-PyTorch/"
      ],
      "execution_count": 17,
      "outputs": [
        {
          "output_type": "stream",
          "text": [
            "/content/drive/My Drive/Wide-and-Deep-PyTorch\n"
          ],
          "name": "stdout"
        }
      ]
    },
    {
      "cell_type": "code",
      "metadata": {
        "id": "Doacn11BD0am",
        "colab_type": "code",
        "outputId": "eadd2a7b-5c36-4198-a15b-a07a340aaf49",
        "colab": {
          "base_uri": "https://localhost:8080/",
          "height": 53
        }
      },
      "source": [
        "data = pd.read_csv('data/IMDB/imdb.csv', header=0, error_bad_lines=False)\n",
        "data.columns = [c.replace(\"-\", \"_\") for c in data.columns]\n",
        "\n",
        "data[\"imdbRating\"] = data[\"imdbRating\"].fillna(0).astype(int)"
      ],
      "execution_count": 18,
      "outputs": [
        {
          "output_type": "stream",
          "text": [
            "b'Skipping line 66: expected 44 fields, saw 46\\nSkipping line 111: expected 44 fields, saw 45\\nSkipping line 198: expected 44 fields, saw 45\\nSkipping line 222: expected 44 fields, saw 46\\nSkipping line 278: expected 44 fields, saw 45\\nSkipping line 396: expected 44 fields, saw 45\\nSkipping line 403: expected 44 fields, saw 45\\nSkipping line 421: expected 44 fields, saw 45\\nSkipping line 437: expected 44 fields, saw 45\\nSkipping line 462: expected 44 fields, saw 46\\nSkipping line 491: expected 44 fields, saw 45\\nSkipping line 515: expected 44 fields, saw 45\\nSkipping line 529: expected 44 fields, saw 45\\nSkipping line 530: expected 44 fields, saw 45\\nSkipping line 558: expected 44 fields, saw 45\\nSkipping line 623: expected 44 fields, saw 45\\nSkipping line 646: expected 44 fields, saw 45\\nSkipping line 663: expected 44 fields, saw 46\\nSkipping line 713: expected 44 fields, saw 45\\nSkipping line 730: expected 44 fields, saw 47\\nSkipping line 791: expected 44 fields, saw 45\\nSkipping line 813: expected 44 fields, saw 45\\nSkipping line 837: expected 44 fields, saw 45\\nSkipping line 861: expected 44 fields, saw 45\\nSkipping line 874: expected 44 fields, saw 45\\nSkipping line 899: expected 44 fields, saw 45\\nSkipping line 917: expected 44 fields, saw 45\\nSkipping line 944: expected 44 fields, saw 46\\nSkipping line 994: expected 44 fields, saw 45\\nSkipping line 1027: expected 44 fields, saw 45\\nSkipping line 1046: expected 44 fields, saw 45\\nSkipping line 1097: expected 44 fields, saw 45\\nSkipping line 1106: expected 44 fields, saw 45\\nSkipping line 1170: expected 44 fields, saw 45\\nSkipping line 1194: expected 44 fields, saw 45\\nSkipping line 1195: expected 44 fields, saw 45\\nSkipping line 1218: expected 44 fields, saw 45\\nSkipping line 1220: expected 44 fields, saw 45\\nSkipping line 1270: expected 44 fields, saw 45\\nSkipping line 1338: expected 44 fields, saw 47\\nSkipping line 1355: expected 44 fields, saw 45\\nSkipping line 1363: expected 44 fields, saw 45\\nSkipping line 1395: expected 44 fields, saw 45\\nSkipping line 1402: expected 44 fields, saw 46\\nSkipping line 1418: expected 44 fields, saw 45\\nSkipping line 1431: expected 44 fields, saw 45\\nSkipping line 1617: expected 44 fields, saw 45\\nSkipping line 1663: expected 44 fields, saw 45\\nSkipping line 1742: expected 44 fields, saw 46\\nSkipping line 1766: expected 44 fields, saw 45\\nSkipping line 1799: expected 44 fields, saw 45\\nSkipping line 1867: expected 44 fields, saw 45\\nSkipping line 1899: expected 44 fields, saw 45\\nSkipping line 1900: expected 44 fields, saw 45\\nSkipping line 1901: expected 44 fields, saw 45\\nSkipping line 1907: expected 44 fields, saw 45\\nSkipping line 1913: expected 44 fields, saw 45\\nSkipping line 1924: expected 44 fields, saw 45\\nSkipping line 1939: expected 44 fields, saw 45\\nSkipping line 1945: expected 44 fields, saw 45\\nSkipping line 1982: expected 44 fields, saw 45\\nSkipping line 2023: expected 44 fields, saw 45\\nSkipping line 2028: expected 44 fields, saw 45\\nSkipping line 2054: expected 44 fields, saw 45\\nSkipping line 2076: expected 44 fields, saw 45\\nSkipping line 2081: expected 44 fields, saw 45\\nSkipping line 2092: expected 44 fields, saw 45\\nSkipping line 2107: expected 44 fields, saw 45\\nSkipping line 2160: expected 44 fields, saw 45\\nSkipping line 2260: expected 44 fields, saw 45\\nSkipping line 2261: expected 44 fields, saw 45\\nSkipping line 2289: expected 44 fields, saw 46\\nSkipping line 2290: expected 44 fields, saw 45\\nSkipping line 2349: expected 44 fields, saw 45\\nSkipping line 2395: expected 44 fields, saw 45\\nSkipping line 2507: expected 44 fields, saw 45\\nSkipping line 2584: expected 44 fields, saw 45\\nSkipping line 2588: expected 44 fields, saw 46\\nSkipping line 2595: expected 44 fields, saw 45\\nSkipping line 2604: expected 44 fields, saw 45\\nSkipping line 2622: expected 44 fields, saw 45\\nSkipping line 2661: expected 44 fields, saw 45\\nSkipping line 2714: expected 44 fields, saw 45\\nSkipping line 2722: expected 44 fields, saw 45\\nSkipping line 2776: expected 44 fields, saw 45\\nSkipping line 2806: expected 44 fields, saw 45\\nSkipping line 2826: expected 44 fields, saw 45\\nSkipping line 2882: expected 44 fields, saw 45\\nSkipping line 2909: expected 44 fields, saw 45\\nSkipping line 3005: expected 44 fields, saw 45\\nSkipping line 3019: expected 44 fields, saw 45\\nSkipping line 3052: expected 44 fields, saw 45\\nSkipping line 3062: expected 44 fields, saw 45\\nSkipping line 3086: expected 44 fields, saw 45\\nSkipping line 3089: expected 44 fields, saw 45\\nSkipping line 3134: expected 44 fields, saw 46\\nSkipping line 3157: expected 44 fields, saw 45\\nSkipping line 3163: expected 44 fields, saw 45\\nSkipping line 3177: expected 44 fields, saw 45\\nSkipping line 3190: expected 44 fields, saw 45\\nSkipping line 3205: expected 44 fields, saw 45\\nSkipping line 3209: expected 44 fields, saw 45\\nSkipping line 3238: expected 44 fields, saw 45\\nSkipping line 3242: expected 44 fields, saw 45\\nSkipping line 3255: expected 44 fields, saw 45\\nSkipping line 3303: expected 44 fields, saw 45\\nSkipping line 3314: expected 44 fields, saw 45\\nSkipping line 3322: expected 44 fields, saw 45\\nSkipping line 3358: expected 44 fields, saw 45\\nSkipping line 3360: expected 44 fields, saw 46\\nSkipping line 3377: expected 44 fields, saw 45\\nSkipping line 3413: expected 44 fields, saw 45\\nSkipping line 3481: expected 44 fields, saw 45\\nSkipping line 3496: expected 44 fields, saw 45\\nSkipping line 3719: expected 44 fields, saw 45\\nSkipping line 3792: expected 44 fields, saw 45\\nSkipping line 3807: expected 44 fields, saw 46\\nSkipping line 3858: expected 44 fields, saw 45\\nSkipping line 3864: expected 44 fields, saw 45\\nSkipping line 3902: expected 44 fields, saw 45\\nSkipping line 3943: expected 44 fields, saw 45\\nSkipping line 3969: expected 44 fields, saw 45\\nSkipping line 4024: expected 44 fields, saw 47\\nSkipping line 4044: expected 44 fields, saw 45\\nSkipping line 4045: expected 44 fields, saw 45\\nSkipping line 4112: expected 44 fields, saw 45\\nSkipping line 4149: expected 44 fields, saw 45\\nSkipping line 4280: expected 44 fields, saw 45\\nSkipping line 4282: expected 44 fields, saw 45\\nSkipping line 4308: expected 44 fields, saw 45\\nSkipping line 4377: expected 44 fields, saw 45\\nSkipping line 4390: expected 44 fields, saw 45\\nSkipping line 4404: expected 44 fields, saw 45\\nSkipping line 4416: expected 44 fields, saw 45\\nSkipping line 4423: expected 44 fields, saw 46\\nSkipping line 4540: expected 44 fields, saw 45\\nSkipping line 4554: expected 44 fields, saw 45\\nSkipping line 4556: expected 44 fields, saw 46\\nSkipping line 4572: expected 44 fields, saw 45\\nSkipping line 4593: expected 44 fields, saw 45\\nSkipping line 4614: expected 44 fields, saw 45\\nSkipping line 4688: expected 44 fields, saw 45\\nSkipping line 4750: expected 44 fields, saw 45\\nSkipping line 4764: expected 44 fields, saw 45\\nSkipping line 4765: expected 44 fields, saw 45\\nSkipping line 4849: expected 44 fields, saw 45\\nSkipping line 4865: expected 44 fields, saw 45\\nSkipping line 4892: expected 44 fields, saw 45\\nSkipping line 4893: expected 44 fields, saw 45\\nSkipping line 4897: expected 44 fields, saw 45\\nSkipping line 4923: expected 44 fields, saw 45\\nSkipping line 4956: expected 44 fields, saw 45\\nSkipping line 4957: expected 44 fields, saw 45\\nSkipping line 4962: expected 44 fields, saw 45\\nSkipping line 4967: expected 44 fields, saw 45\\nSkipping line 4971: expected 44 fields, saw 45\\nSkipping line 5057: expected 44 fields, saw 45\\nSkipping line 5061: expected 44 fields, saw 45\\nSkipping line 5097: expected 44 fields, saw 45\\nSkipping line 5125: expected 44 fields, saw 45\\nSkipping line 5180: expected 44 fields, saw 45\\nSkipping line 5207: expected 44 fields, saw 45\\nSkipping line 5339: expected 44 fields, saw 45\\nSkipping line 5426: expected 44 fields, saw 45\\nSkipping line 5474: expected 44 fields, saw 45\\nSkipping line 5511: expected 44 fields, saw 45\\nSkipping line 5561: expected 44 fields, saw 45\\nSkipping line 5563: expected 44 fields, saw 45\\nSkipping line 5689: expected 44 fields, saw 45\\nSkipping line 5725: expected 44 fields, saw 45\\nSkipping line 5759: expected 44 fields, saw 45\\nSkipping line 5796: expected 44 fields, saw 45\\nSkipping line 5829: expected 44 fields, saw 45\\nSkipping line 5854: expected 44 fields, saw 45\\nSkipping line 5886: expected 44 fields, saw 45\\nSkipping line 5899: expected 44 fields, saw 45\\nSkipping line 5901: expected 44 fields, saw 45\\nSkipping line 5970: expected 44 fields, saw 45\\nSkipping line 5996: expected 44 fields, saw 45\\nSkipping line 6085: expected 44 fields, saw 45\\nSkipping line 6087: expected 44 fields, saw 45\\nSkipping line 6095: expected 44 fields, saw 45\\nSkipping line 6096: expected 44 fields, saw 45\\nSkipping line 6098: expected 44 fields, saw 45\\nSkipping line 6115: expected 44 fields, saw 46\\nSkipping line 6158: expected 44 fields, saw 46\\nSkipping line 6174: expected 44 fields, saw 45\\nSkipping line 6187: expected 44 fields, saw 45\\nSkipping line 6218: expected 44 fields, saw 45\\nSkipping line 6266: expected 44 fields, saw 45\\nSkipping line 6275: expected 44 fields, saw 45\\nSkipping line 6279: expected 44 fields, saw 45\\nSkipping line 6296: expected 44 fields, saw 45\\nSkipping line 6471: expected 44 fields, saw 46\\nSkipping line 6494: expected 44 fields, saw 45\\nSkipping line 6497: expected 44 fields, saw 45\\nSkipping line 6614: expected 44 fields, saw 46\\nSkipping line 6714: expected 44 fields, saw 45\\nSkipping line 6727: expected 44 fields, saw 45\\nSkipping line 6752: expected 44 fields, saw 45\\nSkipping line 6763: expected 44 fields, saw 45\\nSkipping line 6817: expected 44 fields, saw 45\\nSkipping line 6853: expected 44 fields, saw 45\\nSkipping line 6904: expected 44 fields, saw 45\\nSkipping line 6914: expected 44 fields, saw 45\\nSkipping line 6948: expected 44 fields, saw 45\\nSkipping line 6969: expected 44 fields, saw 45\\nSkipping line 6979: expected 44 fields, saw 45\\nSkipping line 7010: expected 44 fields, saw 47\\nSkipping line 7024: expected 44 fields, saw 45\\nSkipping line 7036: expected 44 fields, saw 45\\nSkipping line 7069: expected 44 fields, saw 45\\nSkipping line 7146: expected 44 fields, saw 45\\nSkipping line 7168: expected 44 fields, saw 45\\nSkipping line 7170: expected 44 fields, saw 45\\nSkipping line 7317: expected 44 fields, saw 45\\nSkipping line 7399: expected 44 fields, saw 45\\nSkipping line 7402: expected 44 fields, saw 45\\nSkipping line 7496: expected 44 fields, saw 45\\nSkipping line 7584: expected 44 fields, saw 45\\nSkipping line 7666: expected 44 fields, saw 45\\nSkipping line 7690: expected 44 fields, saw 45\\nSkipping line 7704: expected 44 fields, saw 47\\nSkipping line 7738: expected 44 fields, saw 45\\nSkipping line 7773: expected 44 fields, saw 45\\nSkipping line 7803: expected 44 fields, saw 45\\nSkipping line 7839: expected 44 fields, saw 45\\nSkipping line 7850: expected 44 fields, saw 45\\nSkipping line 7910: expected 44 fields, saw 45\\nSkipping line 7942: expected 44 fields, saw 45\\nSkipping line 7959: expected 44 fields, saw 45\\nSkipping line 8024: expected 44 fields, saw 45\\nSkipping line 8026: expected 44 fields, saw 45\\nSkipping line 8028: expected 44 fields, saw 45\\nSkipping line 8033: expected 44 fields, saw 45\\nSkipping line 8052: expected 44 fields, saw 45\\nSkipping line 8129: expected 44 fields, saw 45\\nSkipping line 8138: expected 44 fields, saw 45\\nSkipping line 8160: expected 44 fields, saw 46\\nSkipping line 8244: expected 44 fields, saw 45\\nSkipping line 8255: expected 44 fields, saw 45\\nSkipping line 8390: expected 44 fields, saw 45\\nSkipping line 8400: expected 44 fields, saw 45\\nSkipping line 8429: expected 44 fields, saw 45\\nSkipping line 8446: expected 44 fields, saw 46\\nSkipping line 8565: expected 44 fields, saw 46\\nSkipping line 8622: expected 44 fields, saw 46\\nSkipping line 8658: expected 44 fields, saw 45\\nSkipping line 8742: expected 44 fields, saw 45\\nSkipping line 8748: expected 44 fields, saw 45\\nSkipping line 8802: expected 44 fields, saw 45\\nSkipping line 8844: expected 44 fields, saw 45\\nSkipping line 8874: expected 44 fields, saw 45\\nSkipping line 8882: expected 44 fields, saw 45\\nSkipping line 8885: expected 44 fields, saw 48\\nSkipping line 8910: expected 44 fields, saw 45\\nSkipping line 8923: expected 44 fields, saw 45\\nSkipping line 8947: expected 44 fields, saw 45\\nSkipping line 8958: expected 44 fields, saw 45\\nSkipping line 9039: expected 44 fields, saw 46\\nSkipping line 9090: expected 44 fields, saw 45\\nSkipping line 9112: expected 44 fields, saw 45\\nSkipping line 9137: expected 44 fields, saw 45\\nSkipping line 9201: expected 44 fields, saw 45\\nSkipping line 9257: expected 44 fields, saw 45\\nSkipping line 9272: expected 44 fields, saw 45\\nSkipping line 9390: expected 44 fields, saw 45\\nSkipping line 9487: expected 44 fields, saw 45\\nSkipping line 9518: expected 44 fields, saw 45\\nSkipping line 9554: expected 44 fields, saw 45\\nSkipping line 9576: expected 44 fields, saw 45\\nSkipping line 9671: expected 44 fields, saw 45\\nSkipping line 9690: expected 44 fields, saw 45\\nSkipping line 9758: expected 44 fields, saw 45\\nSkipping line 9759: expected 44 fields, saw 45\\nSkipping line 9767: expected 44 fields, saw 45\\nSkipping line 9776: expected 44 fields, saw 45\\nSkipping line 9805: expected 44 fields, saw 45\\nSkipping line 9834: expected 44 fields, saw 45\\nSkipping line 9837: expected 44 fields, saw 45\\nSkipping line 9854: expected 44 fields, saw 45\\nSkipping line 9890: expected 44 fields, saw 45\\nSkipping line 9897: expected 44 fields, saw 45\\nSkipping line 9957: expected 44 fields, saw 45\\nSkipping line 9979: expected 44 fields, saw 45\\nSkipping line 9980: expected 44 fields, saw 45\\nSkipping line 10001: expected 44 fields, saw 45\\nSkipping line 10002: expected 44 fields, saw 45\\nSkipping line 10023: expected 44 fields, saw 45\\nSkipping line 10032: expected 44 fields, saw 45\\nSkipping line 10051: expected 44 fields, saw 45\\nSkipping line 10059: expected 44 fields, saw 46\\nSkipping line 10086: expected 44 fields, saw 45\\nSkipping line 10102: expected 44 fields, saw 45\\nSkipping line 10118: expected 44 fields, saw 45\\nSkipping line 10184: expected 44 fields, saw 45\\nSkipping line 10199: expected 44 fields, saw 45\\nSkipping line 10204: expected 44 fields, saw 45\\nSkipping line 10218: expected 44 fields, saw 45\\nSkipping line 10224: expected 44 fields, saw 45\\nSkipping line 10294: expected 44 fields, saw 45\\nSkipping line 10296: expected 44 fields, saw 45\\nSkipping line 10331: expected 44 fields, saw 45\\nSkipping line 10342: expected 44 fields, saw 45\\nSkipping line 10351: expected 44 fields, saw 45\\nSkipping line 10414: expected 44 fields, saw 45\\nSkipping line 10430: expected 44 fields, saw 45\\nSkipping line 10463: expected 44 fields, saw 45\\nSkipping line 10478: expected 44 fields, saw 46\\nSkipping line 10533: expected 44 fields, saw 45\\nSkipping line 10536: expected 44 fields, saw 45\\nSkipping line 10539: expected 44 fields, saw 45\\nSkipping line 10549: expected 44 fields, saw 45\\nSkipping line 10582: expected 44 fields, saw 45\\nSkipping line 10588: expected 44 fields, saw 45\\nSkipping line 10598: expected 44 fields, saw 45\\nSkipping line 10660: expected 44 fields, saw 45\\nSkipping line 10733: expected 44 fields, saw 45\\nSkipping line 10806: expected 44 fields, saw 45\\nSkipping line 10862: expected 44 fields, saw 45\\nSkipping line 10905: expected 44 fields, saw 45\\nSkipping line 10993: expected 44 fields, saw 45\\nSkipping line 11070: expected 44 fields, saw 45\\nSkipping line 11084: expected 44 fields, saw 45\\nSkipping line 11110: expected 44 fields, saw 45\\nSkipping line 11123: expected 44 fields, saw 45\\nSkipping line 11128: expected 44 fields, saw 45\\nSkipping line 11129: expected 44 fields, saw 45\\nSkipping line 11196: expected 44 fields, saw 45\\nSkipping line 11210: expected 44 fields, saw 45\\nSkipping line 11254: expected 44 fields, saw 45\\nSkipping line 11290: expected 44 fields, saw 45\\nSkipping line 11365: expected 44 fields, saw 45\\nSkipping line 11433: expected 44 fields, saw 45\\nSkipping line 11434: expected 44 fields, saw 45\\nSkipping line 11469: expected 44 fields, saw 45\\nSkipping line 11475: expected 44 fields, saw 45\\nSkipping line 11480: expected 44 fields, saw 45\\nSkipping line 11513: expected 44 fields, saw 45\\nSkipping line 11522: expected 44 fields, saw 45\\nSkipping line 11553: expected 44 fields, saw 45\\nSkipping line 11610: expected 44 fields, saw 45\\nSkipping line 11641: expected 44 fields, saw 45\\nSkipping line 11655: expected 44 fields, saw 46\\nSkipping line 11689: expected 44 fields, saw 45\\nSkipping line 11753: expected 44 fields, saw 45\\nSkipping line 11776: expected 44 fields, saw 45\\nSkipping line 11797: expected 44 fields, saw 45\\nSkipping line 11809: expected 44 fields, saw 45\\nSkipping line 11882: expected 44 fields, saw 45\\nSkipping line 11915: expected 44 fields, saw 45\\nSkipping line 11917: expected 44 fields, saw 46\\nSkipping line 11929: expected 44 fields, saw 45\\nSkipping line 11956: expected 44 fields, saw 45\\nSkipping line 12031: expected 44 fields, saw 45\\nSkipping line 12047: expected 44 fields, saw 46\\nSkipping line 12160: expected 44 fields, saw 45\\nSkipping line 12180: expected 44 fields, saw 45\\nSkipping line 12184: expected 44 fields, saw 45\\nSkipping line 12224: expected 44 fields, saw 45\\nSkipping line 12227: expected 44 fields, saw 45\\nSkipping line 12233: expected 44 fields, saw 45\\nSkipping line 12251: expected 44 fields, saw 45\\nSkipping line 12256: expected 44 fields, saw 45\\nSkipping line 12257: expected 44 fields, saw 45\\nSkipping line 12259: expected 44 fields, saw 45\\nSkipping line 12355: expected 44 fields, saw 45\\nSkipping line 12378: expected 44 fields, saw 45\\nSkipping line 12398: expected 44 fields, saw 45\\nSkipping line 12486: expected 44 fields, saw 45\\nSkipping line 12516: expected 44 fields, saw 45\\nSkipping line 12588: expected 44 fields, saw 45\\nSkipping line 12595: expected 44 fields, saw 45\\nSkipping line 12614: expected 44 fields, saw 45\\nSkipping line 12642: expected 44 fields, saw 45\\nSkipping line 12701: expected 44 fields, saw 45\\nSkipping line 12741: expected 44 fields, saw 46\\nSkipping line 12771: expected 44 fields, saw 45\\nSkipping line 12777: expected 44 fields, saw 45\\nSkipping line 12802: expected 44 fields, saw 45\\nSkipping line 12892: expected 44 fields, saw 45\\nSkipping line 12910: expected 44 fields, saw 47\\nSkipping line 12982: expected 44 fields, saw 46\\nSkipping line 13024: expected 44 fields, saw 45\\nSkipping line 13052: expected 44 fields, saw 45\\nSkipping line 13056: expected 44 fields, saw 45\\nSkipping line 13158: expected 44 fields, saw 45\\nSkipping line 13170: expected 44 fields, saw 45\\nSkipping line 13171: expected 44 fields, saw 45\\nSkipping line 13186: expected 44 fields, saw 45\\nSkipping line 13240: expected 44 fields, saw 45\\nSkipping line 13262: expected 44 fields, saw 45\\nSkipping line 13374: expected 44 fields, saw 45\\nSkipping line 13407: expected 44 fields, saw 45\\nSkipping line 13477: expected 44 fields, saw 45\\nSkipping line 13540: expected 44 fields, saw 46\\nSkipping line 13569: expected 44 fields, saw 45\\nSkipping line 13617: expected 44 fields, saw 46\\nSkipping line 13651: expected 44 fields, saw 45\\nSkipping line 13663: expected 44 fields, saw 45\\nSkipping line 13754: expected 44 fields, saw 46\\nSkipping line 13775: expected 44 fields, saw 45\\nSkipping line 13804: expected 44 fields, saw 45\\nSkipping line 13828: expected 44 fields, saw 45\\nSkipping line 13865: expected 44 fields, saw 46\\nSkipping line 13883: expected 44 fields, saw 45\\nSkipping line 13929: expected 44 fields, saw 45\\nSkipping line 13948: expected 44 fields, saw 45\\nSkipping line 14022: expected 44 fields, saw 45\\nSkipping line 14127: expected 44 fields, saw 45\\nSkipping line 14148: expected 44 fields, saw 45\\nSkipping line 14173: expected 44 fields, saw 45\\nSkipping line 14243: expected 44 fields, saw 45\\nSkipping line 14254: expected 44 fields, saw 45\\nSkipping line 14318: expected 44 fields, saw 45\\nSkipping line 14320: expected 44 fields, saw 45\\nSkipping line 14354: expected 44 fields, saw 45\\nSkipping line 14434: expected 44 fields, saw 45\\nSkipping line 14456: expected 44 fields, saw 45\\nSkipping line 14479: expected 44 fields, saw 45\\nSkipping line 14565: expected 44 fields, saw 45\\nSkipping line 14572: expected 44 fields, saw 45\\nSkipping line 14616: expected 44 fields, saw 45\\nSkipping line 14636: expected 44 fields, saw 45\\nSkipping line 14642: expected 44 fields, saw 47\\nSkipping line 14644: expected 44 fields, saw 45\\nSkipping line 14649: expected 44 fields, saw 45\\nSkipping line 14670: expected 44 fields, saw 45\\nSkipping line 14688: expected 44 fields, saw 45\\n'\n"
          ],
          "name": "stderr"
        }
      ]
    },
    {
      "cell_type": "code",
      "metadata": {
        "id": "Wsg784PiHhVK",
        "colab_type": "code",
        "outputId": "89577812-eab7-40ef-ff5c-8d13afeeb522",
        "colab": {
          "base_uri": "https://localhost:8080/",
          "height": 184
        }
      },
      "source": [
        "x = data['imdbRating']\n",
        "# data[data['imdbRating'] > 7] = 1\n",
        "x[x > 7] = 8\n",
        "x[x <= 7] = 7\n",
        "data['imdbRating'] = x\n",
        "\n",
        "strs = [\"\" for x in range(14332)]\n",
        "# print(strs)\n",
        "\n",
        "for i, v in enumerate(data['imdbRating']):\n",
        "  strs[i] = str(v)\n",
        "\n",
        "data['imdbRating'] = strs.copy()\n",
        "# print(data['imdbRating'])\n",
        "data['imdbRating_label'] = (data['imdbRating'].apply(lambda x: \"8\" in x)).astype(int)\n",
        "# print(data['imdbRating_label'])"
      ],
      "execution_count": 19,
      "outputs": [
        {
          "output_type": "stream",
          "text": [
            "/usr/local/lib/python3.6/dist-packages/ipykernel_launcher.py:3: SettingWithCopyWarning: \n",
            "A value is trying to be set on a copy of a slice from a DataFrame\n",
            "\n",
            "See the caveats in the documentation: http://pandas.pydata.org/pandas-docs/stable/indexing.html#indexing-view-versus-copy\n",
            "  This is separate from the ipykernel package so we can avoid doing imports until\n",
            "/usr/local/lib/python3.6/dist-packages/ipykernel_launcher.py:4: SettingWithCopyWarning: \n",
            "A value is trying to be set on a copy of a slice from a DataFrame\n",
            "\n",
            "See the caveats in the documentation: http://pandas.pydata.org/pandas-docs/stable/indexing.html#indexing-view-versus-copy\n",
            "  after removing the cwd from sys.path.\n"
          ],
          "name": "stderr"
        }
      ]
    },
    {
      "cell_type": "code",
      "metadata": {
        "id": "0t2t7Qeoz4Ip",
        "colab_type": "code",
        "outputId": "c0f14eeb-04e5-4096-b081-946af2d3df53",
        "colab": {
          "base_uri": "https://localhost:8080/",
          "height": 384
        }
      },
      "source": [
        "# WIDE\n",
        "wide_cols = ['fn', 'ratingCount', 'duration', 'year', 'wordsInTitle']\n",
        "\n",
        "# crossed_cols = (['fn', 'title'], ['fn', 'title'])\n",
        "# crossed_cols = (['tid', 'wordsInTitle'], ['tid','duration'], ['tid', 'year'])\n",
        "crossed_cols = ()\n",
        "\n",
        "# DEEP DENSE\n",
        "embeddings_cols = [('title', 16), ('wordsInTitle', 16), ('tid', 16)]\n",
        "\n",
        "continuous_cols = [\"duration\",\"year\", \"nrOfUserReviews\", \"nrOfGenre\", \"nrOfNewsArticles\", \"nrOfPhotos\", \"nrOfNominations\", \"nrOfWins\", \"ratingCount\"]\n",
        "\n",
        "standardize_cols = continuous_cols\n",
        "out_dir = 'data/IMDB/wide_deep_data'\n",
        "\n",
        "#TARGET: logistic\n",
        "target = 'imdbRating_label'\n",
        "data.head()"
      ],
      "execution_count": 20,
      "outputs": [
        {
          "output_type": "execute_result",
          "data": {
            "text/html": [
              "<div>\n",
              "<style scoped>\n",
              "    .dataframe tbody tr th:only-of-type {\n",
              "        vertical-align: middle;\n",
              "    }\n",
              "\n",
              "    .dataframe tbody tr th {\n",
              "        vertical-align: top;\n",
              "    }\n",
              "\n",
              "    .dataframe thead th {\n",
              "        text-align: right;\n",
              "    }\n",
              "</style>\n",
              "<table border=\"1\" class=\"dataframe\">\n",
              "  <thead>\n",
              "    <tr style=\"text-align: right;\">\n",
              "      <th></th>\n",
              "      <th>fn</th>\n",
              "      <th>tid</th>\n",
              "      <th>title</th>\n",
              "      <th>wordsInTitle</th>\n",
              "      <th>url</th>\n",
              "      <th>imdbRating</th>\n",
              "      <th>ratingCount</th>\n",
              "      <th>duration</th>\n",
              "      <th>year</th>\n",
              "      <th>type</th>\n",
              "      <th>nrOfWins</th>\n",
              "      <th>nrOfNominations</th>\n",
              "      <th>nrOfPhotos</th>\n",
              "      <th>nrOfNewsArticles</th>\n",
              "      <th>nrOfUserReviews</th>\n",
              "      <th>nrOfGenre</th>\n",
              "      <th>Action</th>\n",
              "      <th>Adult</th>\n",
              "      <th>Adventure</th>\n",
              "      <th>Animation</th>\n",
              "      <th>Biography</th>\n",
              "      <th>Comedy</th>\n",
              "      <th>Crime</th>\n",
              "      <th>Documentary</th>\n",
              "      <th>Drama</th>\n",
              "      <th>Family</th>\n",
              "      <th>Fantasy</th>\n",
              "      <th>FilmNoir</th>\n",
              "      <th>GameShow</th>\n",
              "      <th>History</th>\n",
              "      <th>Horror</th>\n",
              "      <th>Music</th>\n",
              "      <th>Musical</th>\n",
              "      <th>Mystery</th>\n",
              "      <th>News</th>\n",
              "      <th>RealityTV</th>\n",
              "      <th>Romance</th>\n",
              "      <th>SciFi</th>\n",
              "      <th>Short</th>\n",
              "      <th>Sport</th>\n",
              "      <th>TalkShow</th>\n",
              "      <th>Thriller</th>\n",
              "      <th>War</th>\n",
              "      <th>Western</th>\n",
              "      <th>imdbRating_label</th>\n",
              "    </tr>\n",
              "  </thead>\n",
              "  <tbody>\n",
              "    <tr>\n",
              "      <th>0</th>\n",
              "      <td>titles01/tt0012349</td>\n",
              "      <td>tt0012349</td>\n",
              "      <td>Der Vagabund und das Kind (1921)</td>\n",
              "      <td>der vagabund und das kind</td>\n",
              "      <td>http://www.imdb.com/title/tt0012349/</td>\n",
              "      <td>8</td>\n",
              "      <td>40550.0</td>\n",
              "      <td>3240.0</td>\n",
              "      <td>1921.0</td>\n",
              "      <td>video.movie</td>\n",
              "      <td>1</td>\n",
              "      <td>0</td>\n",
              "      <td>19</td>\n",
              "      <td>96</td>\n",
              "      <td>85</td>\n",
              "      <td>3</td>\n",
              "      <td>0</td>\n",
              "      <td>0</td>\n",
              "      <td>0</td>\n",
              "      <td>0</td>\n",
              "      <td>0</td>\n",
              "      <td>1</td>\n",
              "      <td>0</td>\n",
              "      <td>0</td>\n",
              "      <td>1</td>\n",
              "      <td>1</td>\n",
              "      <td>0</td>\n",
              "      <td>0</td>\n",
              "      <td>0</td>\n",
              "      <td>0</td>\n",
              "      <td>0</td>\n",
              "      <td>0</td>\n",
              "      <td>0</td>\n",
              "      <td>0</td>\n",
              "      <td>0</td>\n",
              "      <td>0</td>\n",
              "      <td>0</td>\n",
              "      <td>0</td>\n",
              "      <td>0</td>\n",
              "      <td>0</td>\n",
              "      <td>0</td>\n",
              "      <td>0</td>\n",
              "      <td>0</td>\n",
              "      <td>0</td>\n",
              "      <td>1</td>\n",
              "    </tr>\n",
              "    <tr>\n",
              "      <th>1</th>\n",
              "      <td>titles01/tt0015864</td>\n",
              "      <td>tt0015864</td>\n",
              "      <td>Goldrausch (1925)</td>\n",
              "      <td>goldrausch</td>\n",
              "      <td>http://www.imdb.com/title/tt0015864/</td>\n",
              "      <td>8</td>\n",
              "      <td>45319.0</td>\n",
              "      <td>5700.0</td>\n",
              "      <td>1925.0</td>\n",
              "      <td>video.movie</td>\n",
              "      <td>2</td>\n",
              "      <td>1</td>\n",
              "      <td>35</td>\n",
              "      <td>110</td>\n",
              "      <td>122</td>\n",
              "      <td>3</td>\n",
              "      <td>0</td>\n",
              "      <td>0</td>\n",
              "      <td>1</td>\n",
              "      <td>0</td>\n",
              "      <td>0</td>\n",
              "      <td>1</td>\n",
              "      <td>0</td>\n",
              "      <td>0</td>\n",
              "      <td>0</td>\n",
              "      <td>1</td>\n",
              "      <td>0</td>\n",
              "      <td>0</td>\n",
              "      <td>0</td>\n",
              "      <td>0</td>\n",
              "      <td>0</td>\n",
              "      <td>0</td>\n",
              "      <td>0</td>\n",
              "      <td>0</td>\n",
              "      <td>0</td>\n",
              "      <td>0</td>\n",
              "      <td>0</td>\n",
              "      <td>0</td>\n",
              "      <td>0</td>\n",
              "      <td>0</td>\n",
              "      <td>0</td>\n",
              "      <td>0</td>\n",
              "      <td>0</td>\n",
              "      <td>0</td>\n",
              "      <td>1</td>\n",
              "    </tr>\n",
              "    <tr>\n",
              "      <th>2</th>\n",
              "      <td>titles01/tt0017136</td>\n",
              "      <td>tt0017136</td>\n",
              "      <td>Metropolis (1927)</td>\n",
              "      <td>metropolis</td>\n",
              "      <td>http://www.imdb.com/title/tt0017136/</td>\n",
              "      <td>8</td>\n",
              "      <td>81007.0</td>\n",
              "      <td>9180.0</td>\n",
              "      <td>1927.0</td>\n",
              "      <td>video.movie</td>\n",
              "      <td>3</td>\n",
              "      <td>4</td>\n",
              "      <td>67</td>\n",
              "      <td>428</td>\n",
              "      <td>376</td>\n",
              "      <td>2</td>\n",
              "      <td>0</td>\n",
              "      <td>0</td>\n",
              "      <td>0</td>\n",
              "      <td>0</td>\n",
              "      <td>0</td>\n",
              "      <td>0</td>\n",
              "      <td>0</td>\n",
              "      <td>0</td>\n",
              "      <td>1</td>\n",
              "      <td>0</td>\n",
              "      <td>0</td>\n",
              "      <td>0</td>\n",
              "      <td>0</td>\n",
              "      <td>0</td>\n",
              "      <td>0</td>\n",
              "      <td>0</td>\n",
              "      <td>0</td>\n",
              "      <td>0</td>\n",
              "      <td>0</td>\n",
              "      <td>0</td>\n",
              "      <td>0</td>\n",
              "      <td>1</td>\n",
              "      <td>0</td>\n",
              "      <td>0</td>\n",
              "      <td>0</td>\n",
              "      <td>0</td>\n",
              "      <td>0</td>\n",
              "      <td>0</td>\n",
              "      <td>1</td>\n",
              "    </tr>\n",
              "    <tr>\n",
              "      <th>3</th>\n",
              "      <td>titles01/tt0017925</td>\n",
              "      <td>tt0017925</td>\n",
              "      <td>Der General (1926)</td>\n",
              "      <td>der general</td>\n",
              "      <td>http://www.imdb.com/title/tt0017925/</td>\n",
              "      <td>8</td>\n",
              "      <td>37521.0</td>\n",
              "      <td>6420.0</td>\n",
              "      <td>1926.0</td>\n",
              "      <td>video.movie</td>\n",
              "      <td>1</td>\n",
              "      <td>1</td>\n",
              "      <td>53</td>\n",
              "      <td>123</td>\n",
              "      <td>219</td>\n",
              "      <td>3</td>\n",
              "      <td>1</td>\n",
              "      <td>0</td>\n",
              "      <td>1</td>\n",
              "      <td>0</td>\n",
              "      <td>0</td>\n",
              "      <td>1</td>\n",
              "      <td>0</td>\n",
              "      <td>0</td>\n",
              "      <td>0</td>\n",
              "      <td>0</td>\n",
              "      <td>0</td>\n",
              "      <td>0</td>\n",
              "      <td>0</td>\n",
              "      <td>0</td>\n",
              "      <td>0</td>\n",
              "      <td>0</td>\n",
              "      <td>0</td>\n",
              "      <td>0</td>\n",
              "      <td>0</td>\n",
              "      <td>0</td>\n",
              "      <td>0</td>\n",
              "      <td>0</td>\n",
              "      <td>0</td>\n",
              "      <td>0</td>\n",
              "      <td>0</td>\n",
              "      <td>0</td>\n",
              "      <td>0</td>\n",
              "      <td>0</td>\n",
              "      <td>1</td>\n",
              "    </tr>\n",
              "    <tr>\n",
              "      <th>4</th>\n",
              "      <td>titles01/tt0021749</td>\n",
              "      <td>tt0021749</td>\n",
              "      <td>Lichter der Großstadt (1931)</td>\n",
              "      <td>lichter der gro stadt</td>\n",
              "      <td>http://www.imdb.com/title/tt0021749/</td>\n",
              "      <td>8</td>\n",
              "      <td>70057.0</td>\n",
              "      <td>5220.0</td>\n",
              "      <td>1931.0</td>\n",
              "      <td>video.movie</td>\n",
              "      <td>2</td>\n",
              "      <td>0</td>\n",
              "      <td>38</td>\n",
              "      <td>187</td>\n",
              "      <td>186</td>\n",
              "      <td>3</td>\n",
              "      <td>0</td>\n",
              "      <td>0</td>\n",
              "      <td>0</td>\n",
              "      <td>0</td>\n",
              "      <td>0</td>\n",
              "      <td>1</td>\n",
              "      <td>0</td>\n",
              "      <td>0</td>\n",
              "      <td>1</td>\n",
              "      <td>0</td>\n",
              "      <td>0</td>\n",
              "      <td>0</td>\n",
              "      <td>0</td>\n",
              "      <td>0</td>\n",
              "      <td>0</td>\n",
              "      <td>0</td>\n",
              "      <td>0</td>\n",
              "      <td>0</td>\n",
              "      <td>0</td>\n",
              "      <td>0</td>\n",
              "      <td>1</td>\n",
              "      <td>0</td>\n",
              "      <td>0</td>\n",
              "      <td>0</td>\n",
              "      <td>0</td>\n",
              "      <td>0</td>\n",
              "      <td>0</td>\n",
              "      <td>0</td>\n",
              "      <td>1</td>\n",
              "    </tr>\n",
              "  </tbody>\n",
              "</table>\n",
              "</div>"
            ],
            "text/plain": [
              "                   fn        tid  ... Western imdbRating_label\n",
              "0  titles01/tt0012349  tt0012349  ...       0                1\n",
              "1  titles01/tt0015864  tt0015864  ...       0                1\n",
              "2  titles01/tt0017136  tt0017136  ...       0                1\n",
              "3  titles01/tt0017925  tt0017925  ...       0                1\n",
              "4  titles01/tt0021749  tt0021749  ...       0                1\n",
              "\n",
              "[5 rows x 45 columns]"
            ]
          },
          "metadata": {
            "tags": []
          },
          "execution_count": 20
        }
      ]
    },
    {
      "cell_type": "code",
      "metadata": {
        "id": "mlemTA5a2Hlh",
        "colab_type": "code",
        "colab": {}
      },
      "source": [
        "# Adult dataset\n",
        "\n",
        "# DATA_PATH=Path('data')\n",
        "# # the following will all happen if you simply run: python prepare_data.py --dataset adult\n",
        "# DF_adult = pd.read_csv(DATA_PATH/'adult/adult.csv')\n",
        "# DF_adult.columns = [c.replace(\"-\", \"_\") for c in DF_adult.columns]\n",
        "# DF_adult['income_label'] = (DF_adult[\"income\"].apply(lambda x: \">50K\" in x)).astype(int)\n",
        "# DF_adult.drop(\"income\", axis=1, inplace=True)\n",
        "# DF_adult['age_buckets'] = pd.cut(DF_adult.age, bins=[18, 25, 30, 35, 40, 45, 50, 55, 60, 65],\n",
        "#     labels=np.arange(9))\n",
        "# out_dir = DATA_PATH/'adult/wide_deep_data/'\n",
        "\n",
        "# # WIDE\n",
        "# wide_cols = ['age_buckets', 'education', 'relationship','workclass','occupation',\n",
        "#     'native_country','gender']\n",
        "# # crossed_cols = (['education', 'occupation'], ['native_country', 'occupation'])\n",
        "# crossed_cols = ()\n",
        "\n",
        "# # DEEP DENSE\n",
        "# embeddings_cols = [('education',16), ('relationship',16), ('workclass',16),\n",
        "#     ('occupation',16),('native_country',16)]\n",
        "# continuous_cols = [\"age\",\"hours_per_week\"]\n",
        "# standardize_cols = continuous_cols\n",
        "\n",
        "# #TARGET: logistic\n",
        "# target = 'income_label'\n",
        "# DF_adult.head()"
      ],
      "execution_count": 0,
      "outputs": []
    },
    {
      "cell_type": "code",
      "metadata": {
        "id": "dIMNrSDQ-hus",
        "colab_type": "code",
        "colab": {
          "base_uri": "https://localhost:8080/",
          "height": 33
        },
        "outputId": "9379d2ca-7bcb-4434-86c2-33afb55ebd32"
      },
      "source": [
        "from prepare_data_t1 import prepare_data_adult\n",
        "wd_dataset_imdb = prepare_data_adult(\n",
        "    data, wide_cols,\n",
        "    crossed_cols,\n",
        "    embeddings_cols,\n",
        "    continuous_cols,\n",
        "    standardize_cols,\n",
        "    target, out_dir,\n",
        "    scale=True\n",
        "    )"
      ],
      "execution_count": 22,
      "outputs": [
        {
          "output_type": "stream",
          "text": [
            "Wide and Deep adult data preparation completed.\n"
          ],
          "name": "stdout"
        }
      ]
    },
    {
      "cell_type": "code",
      "metadata": {
        "id": "AvyOU8Bz15as",
        "colab_type": "code",
        "colab": {}
      },
      "source": [
        "# For adult dataset\n",
        "\n",
        "# from prepare_data_t1 import prepare_data_adult\n",
        "# wd_dataset_imdb = prepare_data_adult(\n",
        "#     DF_adult, wide_cols,\n",
        "#     crossed_cols,\n",
        "#     embeddings_cols,\n",
        "#     continuous_cols,\n",
        "#     standardize_cols,\n",
        "#     target, out_dir,\n",
        "#     scale=True\n",
        "#     )"
      ],
      "execution_count": 0,
      "outputs": []
    },
    {
      "cell_type": "code",
      "metadata": {
        "id": "4QEwRcBf-huv",
        "colab_type": "code",
        "colab": {}
      },
      "source": [
        "wd_dataset_imdb.keys()\n",
        "wd_dataset_imdb['train'].keys()\n",
        "params = dict()\n",
        "params['wide'] = dict(\n",
        "    wide_dim = wd_dataset_imdb['train']['wide'].shape[1]\n",
        "    )\n",
        "params['deep'] = dict(\n",
        "    embeddings_input = wd_dataset_imdb['cat_embeddings_input'],\n",
        "    embeddings_encoding_dict = wd_dataset_imdb['cat_embeddings_encoding_dict'],\n",
        "    continuous_cols = wd_dataset_imdb['continuous_cols'],\n",
        "    deep_column_idx = wd_dataset_imdb['deep_column_idx'],\n",
        "    hidden_layers = [64,32],\n",
        "    dropout = [0.5]\n",
        "    )\n",
        "\n",
        "model1 = widedeep(**params)"
      ],
      "execution_count": 0,
      "outputs": []
    },
    {
      "cell_type": "code",
      "metadata": {
        "id": "MWkoCAdg-hux",
        "colab_type": "code",
        "outputId": "5b435b73-daee-4179-b7f5-4782f5392f7d",
        "colab": {
          "base_uri": "https://localhost:8080/",
          "height": 401
        }
      },
      "source": [
        "model1"
      ],
      "execution_count": 25,
      "outputs": [
        {
          "output_type": "execute_result",
          "data": {
            "text/plain": [
              "widedeep(\n",
              "  (widenn): wide(\n",
              "    (widenn): Linear(in_features=37054, out_features=1, bias=True)\n",
              "  )\n",
              "  (deepnn): deep(\n",
              "    (emb_layer_title): Embedding(14332, 16)\n",
              "    (emb_layer_wordsInTitle): Embedding(13605, 16)\n",
              "    (emb_layer_tid): Embedding(14332, 16)\n",
              "    (dense): Sequential(\n",
              "      (deep_layer0): Sequential(\n",
              "        (0): Linear(in_features=57, out_features=64, bias=True)\n",
              "        (1): LeakyReLU(negative_slope=0.01, inplace)\n",
              "        (2): Dropout(p=0.0)\n",
              "      )\n",
              "      (deep_layer1): Sequential(\n",
              "        (0): Linear(in_features=64, out_features=32, bias=True)\n",
              "        (1): LeakyReLU(negative_slope=0.01, inplace)\n",
              "        (2): Dropout(p=0.5)\n",
              "      )\n",
              "      (last_linear): Linear(in_features=32, out_features=1, bias=True)\n",
              "    )\n",
              "  )\n",
              ")"
            ]
          },
          "metadata": {
            "tags": []
          },
          "execution_count": 25
        }
      ]
    },
    {
      "cell_type": "code",
      "metadata": {
        "id": "ATFqLhHM-hu0",
        "colab_type": "code",
        "colab": {}
      },
      "source": [
        "model1.settings()"
      ],
      "execution_count": 0,
      "outputs": []
    },
    {
      "cell_type": "code",
      "metadata": {
        "id": "HlNqZIAC-hu2",
        "colab_type": "code",
        "colab": {}
      },
      "source": [
        "use_cuda = torch.cuda.is_available()"
      ],
      "execution_count": 0,
      "outputs": []
    },
    {
      "cell_type": "code",
      "metadata": {
        "id": "WIvbjDOV-hu4",
        "colab_type": "code",
        "colab": {}
      },
      "source": [
        "if use_cuda:\n",
        "    model1 = model1.cuda()"
      ],
      "execution_count": 0,
      "outputs": []
    },
    {
      "cell_type": "code",
      "metadata": {
        "id": "Hz-TkDPS5xsc",
        "colab_type": "code",
        "colab": {}
      },
      "source": [
        "#print(wd_dataset_imdb['train'])"
      ],
      "execution_count": 0,
      "outputs": []
    },
    {
      "cell_type": "code",
      "metadata": {
        "id": "OBU98hQY-hu6",
        "colab_type": "code",
        "colab": {}
      },
      "source": [
        "# Data Loader\n",
        "class WideDeepLoader(Dataset):\n",
        "    def __init__(self, data:Dict[str,Any], transform:Optional=None, mode:str='train'):\n",
        "\n",
        "        self.mode = mode\n",
        "        input_types = list(data.keys())\n",
        "        self.input_types = input_types\n",
        "        self.X_wide = data['wide']\n",
        "        if 'deep' in self.input_types: self.X_deep_dense = data['deep']\n",
        "        if self.mode is 'train':\n",
        "            self.Y = data['target']\n",
        "        elif self.mode is 'test':\n",
        "            self.Y = None\n",
        "\n",
        "    def __getitem__(self, idx:int):\n",
        "\n",
        "        xw = self.X_wide[idx]\n",
        "        X = (xw, )\n",
        "        if 'deep' in self.input_types:\n",
        "            xdd = self.X_deep_dense[idx]\n",
        "            X += (xdd,)\n",
        "        if self.mode is 'train':\n",
        "            y  = self.Y[idx]\n",
        "            return X, y\n",
        "        elif self.mode is 'test':\n",
        "            return X\n",
        "\n",
        "    def __len__(self):\n",
        "        return len(self.X_wide)\n"
      ],
      "execution_count": 0,
      "outputs": []
    },
    {
      "cell_type": "code",
      "metadata": {
        "id": "0IUjGM4r-hu8",
        "colab_type": "code",
        "outputId": "e53f9fd0-cf4a-49b0-ceb7-6f62d1541311",
        "colab": {
          "base_uri": "https://localhost:8080/",
          "height": 33
        }
      },
      "source": [
        "train_set = WideDeepLoader(wd_dataset_imdb['train'], mode='train')\n",
        "valid_set = WideDeepLoader(wd_dataset_imdb['valid'], mode='train')\n",
        "test_set = WideDeepLoader(wd_dataset_imdb['test'], mode='test')\n",
        "train_set"
      ],
      "execution_count": 31,
      "outputs": [
        {
          "output_type": "execute_result",
          "data": {
            "text/plain": [
              "<__main__.WideDeepLoader at 0x7fa41e482c18>"
            ]
          },
          "metadata": {
            "tags": []
          },
          "execution_count": 31
        }
      ]
    },
    {
      "cell_type": "code",
      "metadata": {
        "id": "Xu6zzl8laOFg",
        "colab_type": "code",
        "outputId": "0b04b0ba-fcbe-49fc-8e23-9e899253d675",
        "colab": {
          "base_uri": "https://localhost:8080/",
          "height": 351
        }
      },
      "source": [
        "train_loader = torch.utils.data.DataLoader(dataset=train_set,\n",
        "    batch_size=128,shuffle=True)\n",
        "valid_loader = torch.utils.data.DataLoader(dataset=valid_set,\n",
        "    batch_size=128,shuffle=True)\n",
        "test_loader = torch.utils.data.DataLoader(dataset=test_set,\n",
        "    batch_size=32,shuffle=False)\n",
        "model1.trainModel(n_epochs=10, train_loader=train_loader, eval_loader=valid_loader)"
      ],
      "execution_count": 32,
      "outputs": [
        {
          "output_type": "stream",
          "text": [
            "epoch 1: 100%|██████████| 68/68 [00:02<00:00, 28.61it/s, acc=0.871, loss=0.111]\n",
            "valid: 100%|██████████| 23/23 [00:00<00:00, 52.88it/s, acc=0.866, loss=0.11]\n",
            "epoch 2: 100%|██████████| 68/68 [00:02<00:00, 29.45it/s, acc=0.93, loss=0.0506]\n",
            "valid: 100%|██████████| 23/23 [00:00<00:00, 52.53it/s, acc=0.863, loss=0.125]\n",
            "epoch 3: 100%|██████████| 68/68 [00:02<00:00, 27.62it/s, acc=0.996, loss=0.0232]\n",
            "valid: 100%|██████████| 23/23 [00:00<00:00, 54.18it/s, acc=0.844, loss=0.145]\n",
            "epoch 4: 100%|██████████| 68/68 [00:02<00:00, 28.15it/s, acc=1, loss=0.0149]\n",
            "valid: 100%|██████████| 23/23 [00:00<00:00, 52.59it/s, acc=0.838, loss=0.148]\n",
            "epoch 5: 100%|██████████| 68/68 [00:02<00:00, 28.02it/s, acc=1, loss=0.0122]\n",
            "valid: 100%|██████████| 23/23 [00:00<00:00, 50.52it/s, acc=0.826, loss=0.154]\n",
            "epoch 6: 100%|██████████| 68/68 [00:02<00:00, 27.97it/s, acc=1, loss=0.011]\n",
            "valid: 100%|██████████| 23/23 [00:00<00:00, 54.39it/s, acc=0.826, loss=0.158]\n",
            "epoch 7: 100%|██████████| 68/68 [00:02<00:00, 28.57it/s, acc=1, loss=0.01]\n",
            "valid: 100%|██████████| 23/23 [00:00<00:00, 52.26it/s, acc=0.821, loss=0.158]\n",
            "epoch 8: 100%|██████████| 68/68 [00:02<00:00, 28.07it/s, acc=1, loss=0.00953]\n",
            "valid: 100%|██████████| 23/23 [00:00<00:00, 57.07it/s, acc=0.827, loss=0.156]\n",
            "epoch 9: 100%|██████████| 68/68 [00:02<00:00, 28.10it/s, acc=1, loss=0.00964]\n",
            "valid: 100%|██████████| 23/23 [00:00<00:00, 49.28it/s, acc=0.821, loss=0.158]\n",
            "epoch 10: 100%|██████████| 68/68 [00:02<00:00, 28.98it/s, acc=1, loss=0.00989]\n",
            "valid: 100%|██████████| 23/23 [00:00<00:00, 55.25it/s, acc=0.821, loss=0.159]\n"
          ],
          "name": "stderr"
        }
      ]
    },
    {
      "cell_type": "code",
      "metadata": {
        "id": "WKC-WohRkfxG",
        "colab_type": "code",
        "outputId": "58aa5f53-9e26-4ccc-8edf-070afe7f651c",
        "colab": {
          "base_uri": "https://localhost:8080/",
          "height": 451
        }
      },
      "source": [
        "# Plot global plot_epoch_v,plot_epoch_t,plot_train_loss,plot_val_loss\n",
        "plt.figure(figsize=(14,7))\n",
        "# print(plot_epoch)\n",
        "plt.plot(plot_epoch_t, plot_train_loss, '-', label='E_train')\n",
        "plt.plot(plot_epoch_v, plot_val_loss, '--', label='E_val')\n",
        "plt.xlabel('Epoch', size=15)\n",
        "plt.ylabel('Error', size=15)\n",
        "plt.legend()\n",
        "plt.show()"
      ],
      "execution_count": 33,
      "outputs": [
        {
          "output_type": "display_data",
          "data": {
            "image/png": "[encoded data removed]",
            "text/plain": [
              "<Figure size 1008x504 with 1 Axes>"
            ]
          },
          "metadata": {
            "tags": []
          }
        }
      ]
    },
    {
      "cell_type": "markdown",
      "metadata": {
        "id": "aL8T0rKs3CEr",
        "colab_type": "text"
      },
      "source": [
        ""
      ]
    }
  ]
}